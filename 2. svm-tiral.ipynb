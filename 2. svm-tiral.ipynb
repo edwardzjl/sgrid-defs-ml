{
 "cells": [
  {
   "cell_type": "code",
   "execution_count": 33,
   "metadata": {},
   "outputs": [],
   "source": [
    "import pandas as pd\n",
    "\n",
    "from os import listdir\n",
    "\n",
    "from imblearn.over_sampling import SMOTE\n",
    "\n",
    "from sklearn import preprocessing\n",
    "from sklearn import svm\n",
    "from sklearn.ensemble import ExtraTreesClassifier\n",
    "from sklearn.feature_selection import SelectFromModel\n",
    "from sklearn.feature_selection import SelectKBest\n",
    "from sklearn.feature_selection import chi2\n",
    "from sklearn.linear_model import LogisticRegression\n",
    "from sklearn.metrics import accuracy_score\n",
    "from sklearn.metrics import roc_auc_score\n",
    "from sklearn.model_selection import train_test_split"
   ]
  },
  {
   "cell_type": "code",
   "execution_count": 38,
   "metadata": {
    "scrolled": false
   },
   "outputs": [
    {
     "name": "stdout",
     "output_type": "stream",
     "text": [
      "[ 0.308849    0.27254997  0.1341851   0.28441594]\n",
      "(2556, 3)\n",
      "def6.csv\n",
      "0.70303058048\n",
      "[ 0.34040458  0.26625408  0.10727896  0.28606238]\n",
      "(2434, 3)\n",
      "def4.csv\n",
      "0.738443109731\n",
      "[ 0.3321689   0.2454441   0.13639484  0.28599216]\n",
      "(2432, 2)\n",
      "def5.csv\n",
      "0.686761428861\n",
      "[ 0.32751737  0.25234424  0.12676424  0.29337415]\n",
      "(2510, 3)\n",
      "def1.csv\n",
      "0.746185599746\n",
      "[ 0.32440482  0.28796605  0.10921649  0.27841264]\n",
      "(2144, 3)\n",
      "def2.csv\n",
      "0.656957013575\n",
      "[ 0.3122735   0.30422817  0.11306807  0.27043026]\n",
      "(2520, 3)\n",
      "def3.csv\n",
      "0.679957440101\n",
      "[ 0.32671776  0.29840086  0.13617175  0.23870964]\n",
      "(2644, 2)\n",
      "def7.csv\n",
      "0.837394537395\n"
     ]
    }
   ],
   "source": [
    "files = listdir('data/labeled')\n",
    "for file in files:\n",
    "    df = pd.read_csv('data/labeled/' + file)\n",
    "    \n",
    "    ## discard first 2 columns\n",
    "    X = df[df.columns[3:-1]].values\n",
    "    y = df[df.columns[-1]].values\n",
    "    \n",
    "    ## use smote to deal with unbalance\n",
    "    X_resampled, y_resampled = SMOTE().fit_sample(X, y)\n",
    "\n",
    "    ## standarlize\n",
    "    X_scaled = preprocessing.scale(X_resampled)\n",
    "\n",
    "    ## feature selection\n",
    "    clf = ExtraTreesClassifier()\n",
    "    clf = clf.fit(X_scaled, y_resampled)\n",
    "    print(clf.feature_importances_)\n",
    "    model = SelectFromModel(clf, prefit=True)\n",
    "    X_selected = model.transform(X_scaled)\n",
    "    print(X_selected.shape)\n",
    "    \n",
    "    ## split train sets and test sets\n",
    "    X_train, X_test, y_train, y_test = train_test_split(X_selected, y_resampled, test_size=0.2, random_state=1)\n",
    "    \n",
    "    ## svm\n",
    "    classifier = svm.SVC(probability=True)\n",
    "    classifier.fit(X_train, y_train)\n",
    "        \n",
    "    prob = classifier.predict_proba(X_test)[:, 1]\n",
    "#     print(prob)\n",
    "    print(file)\n",
    "    print(roc_auc_score(y_test, prob))\n",
    "    \n",
    "    ## lr\n",
    "#     classifier = LogisticRegression()\n",
    "#     classifier.fit(X_train, y_train)\n",
    "    \n",
    "#     prob = classifier.predict_proba(X_test)[:, 1]\n",
    "#     print(prob)\n",
    "#     print(roc_auc_score(y_test, prob))"
   ]
  },
  {
   "cell_type": "code",
   "execution_count": null,
   "metadata": {
    "collapsed": true
   },
   "outputs": [],
   "source": []
  }
 ],
 "metadata": {
  "kernelspec": {
   "display_name": "Python 3",
   "language": "python",
   "name": "python3"
  },
  "language_info": {
   "codemirror_mode": {
    "name": "ipython",
    "version": 3
   },
   "file_extension": ".py",
   "mimetype": "text/x-python",
   "name": "python",
   "nbconvert_exporter": "python",
   "pygments_lexer": "ipython3",
   "version": "3.5.2"
  }
 },
 "nbformat": 4,
 "nbformat_minor": 2
}
