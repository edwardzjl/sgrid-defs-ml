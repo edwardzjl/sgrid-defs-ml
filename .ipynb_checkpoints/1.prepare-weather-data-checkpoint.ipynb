{
 "cells": [
  {
   "cell_type": "code",
   "execution_count": 63,
   "metadata": {
    "collapsed": true
   },
   "outputs": [],
   "source": [
    "import csv, re"
   ]
  },
  {
   "cell_type": "code",
   "execution_count": 64,
   "metadata": {
    "scrolled": false
   },
   "outputs": [
    {
     "name": "stdout",
     "output_type": "stream",
     "text": [
      "m.groups(): ('2011', '11', '01')\n",
      "m.group(1): 2011\n",
      "m.group(2): 11\n",
      "m.group(3): 01\n"
     ]
    }
   ],
   "source": [
    "regex = r'(\\d{4})(\\d{2})(\\d{2})'\n",
    "m = re.match(regex, '20111101')\n",
    "\n",
    "print(\"m.groups():\", m.groups())\n",
    "print(\"m.group(1):\", m.group(1))\n",
    "print(\"m.group(2):\", m.group(2))\n",
    "print(\"m.group(3):\", m.group(3))"
   ]
  },
  {
   "cell_type": "markdown",
   "metadata": {},
   "source": [
    "## 测试 DictReader 方法，以及 regex 替换"
   ]
  },
  {
   "cell_type": "code",
   "execution_count": 48,
   "metadata": {},
   "outputs": [
    {
     "name": "stdout",
     "output_type": "stream",
     "text": [
      "{'日照时数 /0.1小时%': '92', '送端': '133427.912', '平均相对湿度/ 1% ': '71', '日期': '20111101', '受端': '127984.718', '20-20时降水量/ 0.1mm': '0', '平均气温/0.1℃': '135'}\n",
      "date: 20111101\n",
      "length of row： 7\n",
      "m.groups(): ('2011', '11', '01')\n",
      "new date: 2011-11-01\n",
      "{'日照时数 /0.1小时%': '92', '送端': '133427.912', '平均相对湿度/ 1% ': '71', '日期': '2011-11-01', '受端': '127984.718', '20-20时降水量/ 0.1mm': '0', '平均气温/0.1℃': '135'}\n"
     ]
    }
   ],
   "source": [
    "with open('weather.csv', 'r') as f:\n",
    "    reader = csv.DictReader(f)\n",
    "    for row in reader:\n",
    "        print(row)\n",
    "        print(\"date:\", row['日期'])\n",
    "        print(\"length of row：\", len(row))\n",
    "        m = re.match(regex, row['日期'])\n",
    "        print(\"m.groups():\", m.groups())\n",
    "        \n",
    "        row['日期'] = '-'.join(list(m.groups()))\n",
    "        print(\"new date:\", row['日期'])\n",
    "        print(row)\n",
    "        break"
   ]
  },
  {
   "cell_type": "code",
   "execution_count": 65,
   "metadata": {},
   "outputs": [],
   "source": [
    "rows = []\n",
    "headers = []\n",
    "\n",
    "with open('weather.csv') as csvfile:\n",
    "    spamreader = csv.DictReader(csvfile)\n",
    "    headers = spamreader.fieldnames\n",
    "    for row in spamreader:\n",
    "        if row['日照时数 /0.1小时%']:\n",
    "            m = re.match(regex, row['日期'])\n",
    "            row['日期'] = '-'.join(list(m.groups()))\n",
    "            rows.append(row)"
   ]
  },
  {
   "cell_type": "code",
   "execution_count": 66,
   "metadata": {
    "collapsed": true
   },
   "outputs": [],
   "source": [
    "with open('weather.formated.csv','w') as f:\n",
    "    f_csv = csv.DictWriter(f, headers)\n",
    "    f_csv.writeheader()\n",
    "    f_csv.writerows(rows)"
   ]
  }
 ],
 "metadata": {
  "kernelspec": {
   "display_name": "Python 3",
   "language": "python",
   "name": "python3"
  },
  "language_info": {
   "codemirror_mode": {
    "name": "ipython",
    "version": 3
   },
   "file_extension": ".py",
   "mimetype": "text/x-python",
   "name": "python",
   "nbconvert_exporter": "python",
   "pygments_lexer": "ipython3",
   "version": "3.5.2"
  }
 },
 "nbformat": 4,
 "nbformat_minor": 2
}
