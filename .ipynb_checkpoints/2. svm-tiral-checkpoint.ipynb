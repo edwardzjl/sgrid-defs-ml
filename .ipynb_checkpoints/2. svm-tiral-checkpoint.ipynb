{
 "cells": [
  {
   "cell_type": "code",
   "execution_count": 1,
   "metadata": {
    "collapsed": true
   },
   "outputs": [],
   "source": [
    "import pandas as pd\n",
    "import numpy as np\n",
    "\n",
    "from os import listdir\n",
    "\n",
    "from imblearn.over_sampling import SMOTE\n",
    "\n",
    "from sklearn import preprocessing\n",
    "from sklearn import svm\n",
    "from sklearn.metrics import roc_auc_score\n",
    "from sklearn.model_selection import train_test_split\n",
    "from sklearn.model_selection import GridSearchCV\n",
    "from sklearn.model_selection import StratifiedKFold"
   ]
  },
  {
   "cell_type": "markdown",
   "metadata": {},
   "source": [
    "### util functions"
   ]
  },
  {
   "cell_type": "code",
   "execution_count": 2,
   "metadata": {
    "collapsed": true
   },
   "outputs": [],
   "source": [
    "def read_data(file):\n",
    "    df = pd.read_csv(file)\n",
    "    \n",
    "    ## discard some useless columns\n",
    "    X = df[df.columns[3:-1]].values\n",
    "    X = X.astype(float)\n",
    "    y = df[df.columns[-1]].values\n",
    "    return X, y\n",
    "\n",
    "def feature_selection(X, y):\n",
    "    clf = ExtraTreesClassifier()\n",
    "    clf = clf.fit(X, y)\n",
    "    print(\"feature importance:\", clf.feature_importances_)\n",
    "    model = SelectFromModel(clf, prefit=True)\n",
    "    X_selected = model.transform(X)\n",
    "    print(\"shape of X after selection:\", X_selected.shape)\n",
    "    return X_selected"
   ]
  },
  {
   "cell_type": "markdown",
   "metadata": {},
   "source": [
    "### def1"
   ]
  },
  {
   "cell_type": "code",
   "execution_count": 3,
   "metadata": {
    "scrolled": false
   },
   "outputs": [
    {
     "name": "stdout",
     "output_type": "stream",
     "text": [
      "0.257575757576\n",
      "Best estimator found: SVC(C=2360.0, cache_size=200, class_weight=None, coef0=0.0,\n",
      "  decision_function_shape='ovr', degree=3, gamma=0.0040000000000000001,\n",
      "  kernel='rbf', max_iter=-1, probability=False, random_state=None,\n",
      "  shrinking=True, tol=0.001, verbose=False)\n",
      "Best parameters found: {'C': 2360.0, 'gamma': 0.0040000000000000001}\n",
      "Best score found: 0.553967637076\n"
     ]
    }
   ],
   "source": [
    "X, y = read_data('data/labeled/def1.csv')\n",
    "\n",
    "## standarlize\n",
    "X_scaled = preprocessing.scale(X)\n",
    "\n",
    "## split train sets and test sets\n",
    "X_train, X_test, y_train, y_test = train_test_split(X_scaled, y, test_size=0.2, stratify=y)\n",
    "print(y_test.sum() / y_train.sum())\n",
    "\n",
    "# param_grid = [{'gamma': np.arange(0.005, 0.015, 0.005), 'C': np.arange(2300.0, 2500.0, 50.0)}]\n",
    "param_grid = [{'gamma': np.arange(0.001, 0.006, 0.001), 'C': np.arange(2300.0, 2400.0, 10.0)}]\n",
    "\n",
    "clf = GridSearchCV(svm.SVC(), param_grid, cv=StratifiedKFold(), scoring='roc_auc')\n",
    "clf.fit(X_train, y_train)\n",
    "\n",
    "print(\"Best estimator found:\", clf.best_estimator_)\n",
    "print(\"Best parameters found:\", clf.best_params_)\n",
    "print(\"Best score found:\", clf.best_score_)"
   ]
  },
  {
   "cell_type": "code",
   "execution_count": 4,
   "metadata": {},
   "outputs": [
    {
     "name": "stdout",
     "output_type": "stream",
     "text": [
      "roc_auc_score: 0.509022732599\n"
     ]
    }
   ],
   "source": [
    "classifier = svm.SVC(C=2360, gamma=0.004, probability=True)\n",
    "classifier.fit(X_train, y_train)\n",
    "prob = classifier.predict_proba(X_test)[:, 1]\n",
    "print(\"roc_auc_score:\", roc_auc_score(y_test, prob))"
   ]
  },
  {
   "cell_type": "markdown",
   "metadata": {},
   "source": [
    "### def2"
   ]
  },
  {
   "cell_type": "code",
   "execution_count": null,
   "metadata": {},
   "outputs": [
    {
     "name": "stdout",
     "output_type": "stream",
     "text": [
      "0.24882629108\n"
     ]
    }
   ],
   "source": [
    "X, y = read_data('data/labeled/def2.csv')\n",
    "\n",
    "## standarlize\n",
    "X_scaled = preprocessing.scale(X)\n",
    "\n",
    "## split train sets and test sets\n",
    "X_train, X_test, y_train, y_test = train_test_split(X_scaled, y, test_size=0.2, stratify=y)\n",
    "\n",
    "# param_grid = [{'gamma': np.arange(0.005, 0.015, 0.005), 'C': np.arange(2300.0, 2500.0, 50.0)}]\n",
    "param_grid = [{'gamma': np.arange(0.001, 0.006, 0.001), 'C': np.arange(2300.0, 2400.0, 10.0)}]\n",
    "\n",
    "clf = GridSearchCV(svm.SVC(), param_grid, cv=StratifiedKFold(), scoring='roc_auc')\n",
    "clf.fit(X_train, y_train)\n",
    "\n",
    "print(\"Best estimator found:\", clf.best_estimator_)\n",
    "print(\"Best parameters found:\", clf.best_params_)\n",
    "print(\"Best score found:\", clf.best_score_)"
   ]
  },
  {
   "cell_type": "code",
   "execution_count": 42,
   "metadata": {
    "scrolled": false
   },
   "outputs": [
    {
     "name": "stdout",
     "output_type": "stream",
     "text": [
      "0.257575757576\n",
      "Best estimator found: SVC(C=2370.0, cache_size=200, class_weight=None, coef0=0.0,\n",
      "  decision_function_shape='ovr', degree=3, gamma=0.0030000000000000001,\n",
      "  kernel='rbf', max_iter=-1, probability=False, random_state=None,\n",
      "  shrinking=True, tol=0.001, verbose=False)\n",
      "Best parameters found: {'gamma': 0.0030000000000000001, 'C': 2370.0}\n",
      "Best score found: 0.63469162007\n"
     ]
    }
   ],
   "source": [
    "classifier = svm.SVC(C=2360, gamma=0.005, probability=True)\n",
    "classifier.fit(X_train, y_train)\n",
    "prob = classifier.predict_proba(X_test)[:, 1]\n",
    "print(\"roc_auc_score:\", roc_auc_score(y_test, prob))"
   ]
  },
  {
   "cell_type": "markdown",
   "metadata": {},
   "source": [
    "### def3"
   ]
  },
  {
   "cell_type": "code",
   "execution_count": null,
   "metadata": {
    "collapsed": true
   },
   "outputs": [],
   "source": [
    "X, y = read_data('data/labeled/def2.csv')\n",
    "\n",
    "## standarlize\n",
    "X_scaled = preprocessing.scale(X)\n",
    "\n",
    "## split train sets and test sets\n",
    "X_train, X_test, y_train, y_test = train_test_split(X_scaled, y, test_size=0.2, stratify=y)\n",
    "\n",
    "# param_grid = [{'gamma': np.arange(0.005, 0.015, 0.005), 'C': np.arange(2300.0, 2500.0, 50.0)}]\n",
    "param_grid = [{'gamma': np.arange(0.001, 0.006, 0.001), 'C': np.arange(2300.0, 2400.0, 10.0)}]\n",
    "\n",
    "clf = GridSearchCV(svm.SVC(), param_grid, cv=StratifiedKFold(), scoring='roc_auc')\n",
    "clf.fit(X_train, y_train)\n",
    "\n",
    "print(\"Best estimator found:\", clf.best_estimator_)\n",
    "print(\"Best parameters found:\", clf.best_params_)\n",
    "print(\"Best score found:\", clf.best_score_)"
   ]
  },
  {
   "cell_type": "code",
   "execution_count": 47,
   "metadata": {
    "collapsed": true
   },
   "outputs": [],
   "source": [
    "classifier = svm.SVC(C=2360, gamma=0.005, probability=True)\n",
    "classifier.fit(X_train, y_train)\n",
    "prob = classifier.predict_proba(X_test)[:, 1]\n",
    "print(\"roc_auc_score:\", roc_auc_score(y_test, prob))"
   ]
  },
  {
   "cell_type": "markdown",
   "metadata": {
    "collapsed": true
   },
   "source": [
    "### def4"
   ]
  },
  {
   "cell_type": "code",
   "execution_count": null,
   "metadata": {
    "collapsed": true
   },
   "outputs": [],
   "source": [
    "X, y = read_data('data/labeled/def2.csv')\n",
    "\n",
    "## standarlize\n",
    "X_scaled = preprocessing.scale(X)\n",
    "\n",
    "## split train sets and test sets\n",
    "X_train, X_test, y_train, y_test = train_test_split(X_scaled, y, test_size=0.2, stratify=y)\n",
    "\n",
    "# param_grid = [{'gamma': np.arange(0.005, 0.015, 0.005), 'C': np.arange(2300.0, 2500.0, 50.0)}]\n",
    "param_grid = [{'gamma': np.arange(0.001, 0.006, 0.001), 'C': np.arange(2300.0, 2400.0, 10.0)}]\n",
    "\n",
    "clf = GridSearchCV(svm.SVC(), param_grid, cv=StratifiedKFold(), scoring='roc_auc')\n",
    "clf.fit(X_train, y_train)\n",
    "\n",
    "print(\"Best estimator found:\", clf.best_estimator_)\n",
    "print(\"Best parameters found:\", clf.best_params_)\n",
    "print(\"Best score found:\", clf.best_score_)"
   ]
  },
  {
   "cell_type": "code",
   "execution_count": null,
   "metadata": {
    "collapsed": true
   },
   "outputs": [],
   "source": [
    "classifier = svm.SVC(C=2360, gamma=0.005, probability=True)\n",
    "classifier.fit(X_train, y_train)\n",
    "prob = classifier.predict_proba(X_test)[:, 1]\n",
    "print(\"roc_auc_score:\", roc_auc_score(y_test, prob))"
   ]
  },
  {
   "cell_type": "code",
   "execution_count": null,
   "metadata": {
    "collapsed": true
   },
   "outputs": [],
   "source": []
  }
 ],
 "metadata": {
  "kernelspec": {
   "display_name": "Python 3",
   "language": "python",
   "name": "python3"
  },
  "language_info": {
   "codemirror_mode": {
    "name": "ipython",
    "version": 3
   },
   "file_extension": ".py",
   "mimetype": "text/x-python",
   "name": "python",
   "nbconvert_exporter": "python",
   "pygments_lexer": "ipython3",
   "version": "3.5.2"
  }
 },
 "nbformat": 4,
 "nbformat_minor": 2
}
